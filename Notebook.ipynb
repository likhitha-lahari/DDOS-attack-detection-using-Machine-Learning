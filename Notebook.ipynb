{
 "cells": [
  {
   "cell_type": "code",
   "execution_count": 1,
   "id": "dbc8927c",
   "metadata": {},
   "outputs": [],
   "source": [
    "import warnings\n",
    "warnings.filterwarnings('ignore')"
   ]
  },
  {
   "cell_type": "code",
   "execution_count": 3,
   "id": "54e7b33e",
   "metadata": {},
   "outputs": [],
   "source": [
    "import numpy as np\n",
    "import pandas as pd\n",
    "from sklearn.preprocessing import LabelEncoder\n",
    "from sklearn.metrics import accuracy_score\n",
    "from sklearn.model_selection import KFold\n",
    "import seaborn as sn\n",
    "import matplotlib.pyplot as plt\n"
   ]
  },
  {
   "cell_type": "code",
   "execution_count": 5,
   "id": "8e1289f1",
   "metadata": {},
   "outputs": [],
   "source": [
    "data = pd.read_csv(\"APA-DDoS-Dataset\\APA-DDoS-Dataset.csv\")"
   ]
  },
  {
   "cell_type": "code",
   "execution_count": 7,
   "id": "b3dc1ec9",
   "metadata": {},
   "outputs": [
    {
     "data": {
      "text/html": [
       "<div>\n",
       "<style scoped>\n",
       "    .dataframe tbody tr th:only-of-type {\n",
       "        vertical-align: middle;\n",
       "    }\n",
       "\n",
       "    .dataframe tbody tr th {\n",
       "        vertical-align: top;\n",
       "    }\n",
       "\n",
       "    .dataframe thead th {\n",
       "        text-align: right;\n",
       "    }\n",
       "</style>\n",
       "<table border=\"1\" class=\"dataframe\">\n",
       "  <thead>\n",
       "    <tr style=\"text-align: right;\">\n",
       "      <th></th>\n",
       "      <th>ip.src</th>\n",
       "      <th>ip.dst</th>\n",
       "      <th>tcp.srcport</th>\n",
       "      <th>tcp.dstport</th>\n",
       "      <th>ip.proto</th>\n",
       "      <th>frame.len</th>\n",
       "      <th>tcp.flags.syn</th>\n",
       "      <th>tcp.flags.reset</th>\n",
       "      <th>tcp.flags.push</th>\n",
       "      <th>tcp.flags.ack</th>\n",
       "      <th>...</th>\n",
       "      <th>tcp.seq</th>\n",
       "      <th>tcp.ack</th>\n",
       "      <th>frame.time</th>\n",
       "      <th>Packets</th>\n",
       "      <th>Bytes</th>\n",
       "      <th>Tx Packets</th>\n",
       "      <th>Tx Bytes</th>\n",
       "      <th>Rx Packets</th>\n",
       "      <th>Rx Bytes</th>\n",
       "      <th>Label</th>\n",
       "    </tr>\n",
       "  </thead>\n",
       "  <tbody>\n",
       "    <tr>\n",
       "      <th>0</th>\n",
       "      <td>192.168.1.1</td>\n",
       "      <td>192.168.23.2</td>\n",
       "      <td>2412</td>\n",
       "      <td>8000</td>\n",
       "      <td>6</td>\n",
       "      <td>54</td>\n",
       "      <td>0</td>\n",
       "      <td>0</td>\n",
       "      <td>1</td>\n",
       "      <td>1</td>\n",
       "      <td>...</td>\n",
       "      <td>1</td>\n",
       "      <td>1</td>\n",
       "      <td>16-Jun 2020 20:18:15.071112000 Mountain Dayli...</td>\n",
       "      <td>8</td>\n",
       "      <td>432</td>\n",
       "      <td>4</td>\n",
       "      <td>216</td>\n",
       "      <td>4</td>\n",
       "      <td>216</td>\n",
       "      <td>DDoS-PSH-ACK</td>\n",
       "    </tr>\n",
       "    <tr>\n",
       "      <th>1</th>\n",
       "      <td>192.168.1.1</td>\n",
       "      <td>192.168.23.2</td>\n",
       "      <td>2413</td>\n",
       "      <td>8000</td>\n",
       "      <td>6</td>\n",
       "      <td>54</td>\n",
       "      <td>0</td>\n",
       "      <td>0</td>\n",
       "      <td>1</td>\n",
       "      <td>1</td>\n",
       "      <td>...</td>\n",
       "      <td>1</td>\n",
       "      <td>1</td>\n",
       "      <td>16-Jun 2020 20:18:15.071138000 Mountain Dayli...</td>\n",
       "      <td>10</td>\n",
       "      <td>540</td>\n",
       "      <td>5</td>\n",
       "      <td>270</td>\n",
       "      <td>5</td>\n",
       "      <td>270</td>\n",
       "      <td>DDoS-PSH-ACK</td>\n",
       "    </tr>\n",
       "    <tr>\n",
       "      <th>2</th>\n",
       "      <td>192.168.1.1</td>\n",
       "      <td>192.168.23.2</td>\n",
       "      <td>2414</td>\n",
       "      <td>8000</td>\n",
       "      <td>6</td>\n",
       "      <td>54</td>\n",
       "      <td>0</td>\n",
       "      <td>0</td>\n",
       "      <td>1</td>\n",
       "      <td>1</td>\n",
       "      <td>...</td>\n",
       "      <td>1</td>\n",
       "      <td>1</td>\n",
       "      <td>16-Jun 2020 20:18:15.071146000 Mountain Dayli...</td>\n",
       "      <td>12</td>\n",
       "      <td>648</td>\n",
       "      <td>6</td>\n",
       "      <td>324</td>\n",
       "      <td>6</td>\n",
       "      <td>324</td>\n",
       "      <td>DDoS-PSH-ACK</td>\n",
       "    </tr>\n",
       "    <tr>\n",
       "      <th>3</th>\n",
       "      <td>192.168.1.1</td>\n",
       "      <td>192.168.23.2</td>\n",
       "      <td>2415</td>\n",
       "      <td>8000</td>\n",
       "      <td>6</td>\n",
       "      <td>54</td>\n",
       "      <td>0</td>\n",
       "      <td>0</td>\n",
       "      <td>1</td>\n",
       "      <td>1</td>\n",
       "      <td>...</td>\n",
       "      <td>1</td>\n",
       "      <td>1</td>\n",
       "      <td>16-Jun 2020 20:18:15.071152000 Mountain Dayli...</td>\n",
       "      <td>10</td>\n",
       "      <td>540</td>\n",
       "      <td>5</td>\n",
       "      <td>270</td>\n",
       "      <td>5</td>\n",
       "      <td>270</td>\n",
       "      <td>DDoS-PSH-ACK</td>\n",
       "    </tr>\n",
       "    <tr>\n",
       "      <th>4</th>\n",
       "      <td>192.168.1.1</td>\n",
       "      <td>192.168.23.2</td>\n",
       "      <td>2416</td>\n",
       "      <td>8000</td>\n",
       "      <td>6</td>\n",
       "      <td>54</td>\n",
       "      <td>0</td>\n",
       "      <td>0</td>\n",
       "      <td>1</td>\n",
       "      <td>1</td>\n",
       "      <td>...</td>\n",
       "      <td>1</td>\n",
       "      <td>1</td>\n",
       "      <td>16-Jun 2020 20:18:15.071159000 Mountain Dayli...</td>\n",
       "      <td>6</td>\n",
       "      <td>324</td>\n",
       "      <td>3</td>\n",
       "      <td>162</td>\n",
       "      <td>3</td>\n",
       "      <td>162</td>\n",
       "      <td>DDoS-PSH-ACK</td>\n",
       "    </tr>\n",
       "  </tbody>\n",
       "</table>\n",
       "<p>5 rows × 23 columns</p>\n",
       "</div>"
      ],
      "text/plain": [
       "        ip.src        ip.dst  tcp.srcport  tcp.dstport  ip.proto  frame.len  \\\n",
       "0  192.168.1.1  192.168.23.2         2412         8000         6         54   \n",
       "1  192.168.1.1  192.168.23.2         2413         8000         6         54   \n",
       "2  192.168.1.1  192.168.23.2         2414         8000         6         54   \n",
       "3  192.168.1.1  192.168.23.2         2415         8000         6         54   \n",
       "4  192.168.1.1  192.168.23.2         2416         8000         6         54   \n",
       "\n",
       "   tcp.flags.syn  tcp.flags.reset  tcp.flags.push  tcp.flags.ack  ...  \\\n",
       "0              0                0               1              1  ...   \n",
       "1              0                0               1              1  ...   \n",
       "2              0                0               1              1  ...   \n",
       "3              0                0               1              1  ...   \n",
       "4              0                0               1              1  ...   \n",
       "\n",
       "   tcp.seq  tcp.ack                                         frame.time  \\\n",
       "0        1        1   16-Jun 2020 20:18:15.071112000 Mountain Dayli...   \n",
       "1        1        1   16-Jun 2020 20:18:15.071138000 Mountain Dayli...   \n",
       "2        1        1   16-Jun 2020 20:18:15.071146000 Mountain Dayli...   \n",
       "3        1        1   16-Jun 2020 20:18:15.071152000 Mountain Dayli...   \n",
       "4        1        1   16-Jun 2020 20:18:15.071159000 Mountain Dayli...   \n",
       "\n",
       "   Packets  Bytes Tx Packets  Tx Bytes  Rx Packets  Rx Bytes         Label  \n",
       "0        8    432          4       216           4       216  DDoS-PSH-ACK  \n",
       "1       10    540          5       270           5       270  DDoS-PSH-ACK  \n",
       "2       12    648          6       324           6       324  DDoS-PSH-ACK  \n",
       "3       10    540          5       270           5       270  DDoS-PSH-ACK  \n",
       "4        6    324          3       162           3       162  DDoS-PSH-ACK  \n",
       "\n",
       "[5 rows x 23 columns]"
      ]
     },
     "execution_count": 7,
     "metadata": {},
     "output_type": "execute_result"
    }
   ],
   "source": [
    "data.head()"
   ]
  },
  {
   "cell_type": "code",
   "execution_count": 9,
   "id": "ee4fe456",
   "metadata": {},
   "outputs": [
    {
     "name": "stdout",
     "output_type": "stream",
     "text": [
      "<class 'pandas.core.frame.DataFrame'>\n",
      "RangeIndex: 151200 entries, 0 to 151199\n",
      "Data columns (total 23 columns):\n",
      " #   Column           Non-Null Count   Dtype \n",
      "---  ------           --------------   ----- \n",
      " 0   ip.src           151200 non-null  object\n",
      " 1   ip.dst           151200 non-null  object\n",
      " 2   tcp.srcport      151200 non-null  int64 \n",
      " 3   tcp.dstport      151200 non-null  int64 \n",
      " 4   ip.proto         151200 non-null  int64 \n",
      " 5   frame.len        151200 non-null  int64 \n",
      " 6   tcp.flags.syn    151200 non-null  int64 \n",
      " 7   tcp.flags.reset  151200 non-null  int64 \n",
      " 8   tcp.flags.push   151200 non-null  int64 \n",
      " 9   tcp.flags.ack    151200 non-null  int64 \n",
      " 10  ip.flags.mf      151200 non-null  int64 \n",
      " 11  ip.flags.df      151200 non-null  int64 \n",
      " 12  ip.flags.rb      151200 non-null  int64 \n",
      " 13  tcp.seq          151200 non-null  int64 \n",
      " 14  tcp.ack          151200 non-null  int64 \n",
      " 15  frame.time       151200 non-null  object\n",
      " 16  Packets          151200 non-null  int64 \n",
      " 17  Bytes            151200 non-null  int64 \n",
      " 18  Tx Packets       151200 non-null  int64 \n",
      " 19  Tx Bytes         151200 non-null  int64 \n",
      " 20  Rx Packets       151200 non-null  int64 \n",
      " 21  Rx Bytes         151200 non-null  int64 \n",
      " 22  Label            151200 non-null  object\n",
      "dtypes: int64(19), object(4)\n",
      "memory usage: 26.5+ MB\n"
     ]
    }
   ],
   "source": [
    "data.info()"
   ]
  },
  {
   "cell_type": "code",
   "execution_count": 11,
   "id": "416937dc",
   "metadata": {},
   "outputs": [
    {
     "name": "stdout",
     "output_type": "stream",
     "text": [
      "ip.src             0\n",
      "ip.dst             0\n",
      "tcp.srcport        0\n",
      "tcp.dstport        0\n",
      "ip.proto           0\n",
      "frame.len          0\n",
      "tcp.flags.syn      0\n",
      "tcp.flags.reset    0\n",
      "tcp.flags.push     0\n",
      "tcp.flags.ack      0\n",
      "ip.flags.mf        0\n",
      "ip.flags.df        0\n",
      "ip.flags.rb        0\n",
      "tcp.seq            0\n",
      "tcp.ack            0\n",
      "frame.time         0\n",
      "Packets            0\n",
      "Bytes              0\n",
      "Tx Packets         0\n",
      "Tx Bytes           0\n",
      "Rx Packets         0\n",
      "Rx Bytes           0\n",
      "Label              0\n",
      "dtype: int64\n"
     ]
    }
   ],
   "source": [
    "missing_data = data.isnull().sum()\n",
    "print(missing_data)"
   ]
  },
  {
   "cell_type": "code",
   "execution_count": 13,
   "id": "c370b21e",
   "metadata": {},
   "outputs": [
    {
     "data": {
      "text/plain": [
       "Label\n",
       "Benign          75600\n",
       "DDoS-PSH-ACK    37800\n",
       "DDoS-ACK        37800\n",
       "Name: count, dtype: int64"
      ]
     },
     "execution_count": 13,
     "metadata": {},
     "output_type": "execute_result"
    }
   ],
   "source": [
    "data['Label'].value_counts()"
   ]
  },
  {
   "cell_type": "code",
   "execution_count": 15,
   "id": "3a092bcf",
   "metadata": {},
   "outputs": [
    {
     "data": {
      "text/plain": [
       "<Axes: xlabel='Label', ylabel='count'>"
      ]
     },
     "execution_count": 15,
     "metadata": {},
     "output_type": "execute_result"
    },
    {
     "data": {
      "image/png": "[encoded data removed]",
      "text/plain": [
       "<Figure size 640x480 with 1 Axes>"
      ]
     },
     "metadata": {},
     "output_type": "display_data"
    }
   ],
   "source": [
    "import seaborn as sns\n",
    "sns.countplot(x=\"Label\", data = data)"
   ]
  },
  {
   "cell_type": "code",
   "execution_count": 17,
   "id": "91a0ad2b",
   "metadata": {},
   "outputs": [],
   "source": [
    "data = data.drop(['ip.src', 'ip.dst','frame.time'], axis=1)"
   ]
  },
  {
   "cell_type": "code",
   "execution_count": 19,
   "id": "b3acb833",
   "metadata": {},
   "outputs": [],
   "source": [
    "data.to_csv('processed.csv')"
   ]
  },
  {
   "cell_type": "code",
   "execution_count": 21,
   "id": "06557b9f",
   "metadata": {},
   "outputs": [],
   "source": [
    "from sklearn import preprocessing\n",
    "  \n",
    "\n",
    "label_encoder = preprocessing.LabelEncoder()\n",
    "\n",
    "data['Label']= label_encoder.fit_transform(data['Label'])"
   ]
  },
  {
   "cell_type": "code",
   "execution_count": 23,
   "id": "f8bbee0c",
   "metadata": {},
   "outputs": [
    {
     "name": "stdout",
     "output_type": "stream",
     "text": [
      "<class 'pandas.core.frame.DataFrame'>\n",
      "RangeIndex: 151200 entries, 0 to 151199\n",
      "Data columns (total 20 columns):\n",
      " #   Column           Non-Null Count   Dtype\n",
      "---  ------           --------------   -----\n",
      " 0   tcp.srcport      151200 non-null  int64\n",
      " 1   tcp.dstport      151200 non-null  int64\n",
      " 2   ip.proto         151200 non-null  int64\n",
      " 3   frame.len        151200 non-null  int64\n",
      " 4   tcp.flags.syn    151200 non-null  int64\n",
      " 5   tcp.flags.reset  151200 non-null  int64\n",
      " 6   tcp.flags.push   151200 non-null  int64\n",
      " 7   tcp.flags.ack    151200 non-null  int64\n",
      " 8   ip.flags.mf      151200 non-null  int64\n",
      " 9   ip.flags.df      151200 non-null  int64\n",
      " 10  ip.flags.rb      151200 non-null  int64\n",
      " 11  tcp.seq          151200 non-null  int64\n",
      " 12  tcp.ack          151200 non-null  int64\n",
      " 13  Packets          151200 non-null  int64\n",
      " 14  Bytes            151200 non-null  int64\n",
      " 15  Tx Packets       151200 non-null  int64\n",
      " 16  Tx Bytes         151200 non-null  int64\n",
      " 17  Rx Packets       151200 non-null  int64\n",
      " 18  Rx Bytes         151200 non-null  int64\n",
      " 19  Label            151200 non-null  int32\n",
      "dtypes: int32(1), int64(19)\n",
      "memory usage: 22.5 MB\n"
     ]
    }
   ],
   "source": [
    "data.info()"
   ]
  },
  {
   "cell_type": "code",
   "execution_count": 25,
   "id": "d5609f92",
   "metadata": {},
   "outputs": [
    {
     "data": {
      "text/plain": [
       "Index(['tcp.srcport', 'tcp.dstport', 'ip.proto', 'frame.len', 'tcp.flags.syn',\n",
       "       'tcp.flags.reset', 'tcp.flags.push', 'tcp.flags.ack', 'ip.flags.mf',\n",
       "       'ip.flags.df', 'ip.flags.rb', 'tcp.seq', 'tcp.ack', 'Packets', 'Bytes',\n",
       "       'Tx Packets', 'Tx Bytes', 'Rx Packets', 'Rx Bytes', 'Label'],\n",
       "      dtype='object')"
      ]
     },
     "execution_count": 25,
     "metadata": {},
     "output_type": "execute_result"
    }
   ],
   "source": [
    "data.columns"
   ]
  },
  {
   "cell_type": "code",
   "execution_count": 27,
   "id": "94b0e919",
   "metadata": {},
   "outputs": [],
   "source": [
    "X = data[['tcp.srcport', 'tcp.dstport', 'ip.proto',\n",
    "       'frame.len', 'tcp.flags.syn', 'tcp.flags.reset', 'tcp.flags.push',\n",
    "       'tcp.flags.ack', 'ip.flags.mf', 'ip.flags.df', 'ip.flags.rb', 'tcp.seq',\n",
    "       'tcp.ack', 'Packets', 'Bytes', 'Tx Packets', 'Tx Bytes',\n",
    "       'Rx Packets', 'Rx Bytes',]]\n",
    "y = data['Label']"
   ]
  },
  {
   "cell_type": "code",
   "execution_count": 29,
   "id": "13546299",
   "metadata": {},
   "outputs": [
    {
     "data": {
      "text/html": [
       "<div>\n",
       "<style scoped>\n",
       "    .dataframe tbody tr th:only-of-type {\n",
       "        vertical-align: middle;\n",
       "    }\n",
       "\n",
       "    .dataframe tbody tr th {\n",
       "        vertical-align: top;\n",
       "    }\n",
       "\n",
       "    .dataframe thead th {\n",
       "        text-align: right;\n",
       "    }\n",
       "</style>\n",
       "<table border=\"1\" class=\"dataframe\">\n",
       "  <thead>\n",
       "    <tr style=\"text-align: right;\">\n",
       "      <th></th>\n",
       "      <th>tcp.srcport</th>\n",
       "      <th>tcp.dstport</th>\n",
       "      <th>ip.proto</th>\n",
       "      <th>frame.len</th>\n",
       "      <th>tcp.flags.syn</th>\n",
       "      <th>tcp.flags.reset</th>\n",
       "      <th>tcp.flags.push</th>\n",
       "      <th>tcp.flags.ack</th>\n",
       "      <th>ip.flags.mf</th>\n",
       "      <th>ip.flags.df</th>\n",
       "      <th>ip.flags.rb</th>\n",
       "      <th>tcp.seq</th>\n",
       "      <th>tcp.ack</th>\n",
       "      <th>Packets</th>\n",
       "      <th>Bytes</th>\n",
       "      <th>Tx Packets</th>\n",
       "      <th>Tx Bytes</th>\n",
       "      <th>Rx Packets</th>\n",
       "      <th>Rx Bytes</th>\n",
       "    </tr>\n",
       "  </thead>\n",
       "  <tbody>\n",
       "    <tr>\n",
       "      <th>0</th>\n",
       "      <td>2412</td>\n",
       "      <td>8000</td>\n",
       "      <td>6</td>\n",
       "      <td>54</td>\n",
       "      <td>0</td>\n",
       "      <td>0</td>\n",
       "      <td>1</td>\n",
       "      <td>1</td>\n",
       "      <td>0</td>\n",
       "      <td>0</td>\n",
       "      <td>0</td>\n",
       "      <td>1</td>\n",
       "      <td>1</td>\n",
       "      <td>8</td>\n",
       "      <td>432</td>\n",
       "      <td>4</td>\n",
       "      <td>216</td>\n",
       "      <td>4</td>\n",
       "      <td>216</td>\n",
       "    </tr>\n",
       "    <tr>\n",
       "      <th>1</th>\n",
       "      <td>2413</td>\n",
       "      <td>8000</td>\n",
       "      <td>6</td>\n",
       "      <td>54</td>\n",
       "      <td>0</td>\n",
       "      <td>0</td>\n",
       "      <td>1</td>\n",
       "      <td>1</td>\n",
       "      <td>0</td>\n",
       "      <td>0</td>\n",
       "      <td>0</td>\n",
       "      <td>1</td>\n",
       "      <td>1</td>\n",
       "      <td>10</td>\n",
       "      <td>540</td>\n",
       "      <td>5</td>\n",
       "      <td>270</td>\n",
       "      <td>5</td>\n",
       "      <td>270</td>\n",
       "    </tr>\n",
       "    <tr>\n",
       "      <th>2</th>\n",
       "      <td>2414</td>\n",
       "      <td>8000</td>\n",
       "      <td>6</td>\n",
       "      <td>54</td>\n",
       "      <td>0</td>\n",
       "      <td>0</td>\n",
       "      <td>1</td>\n",
       "      <td>1</td>\n",
       "      <td>0</td>\n",
       "      <td>0</td>\n",
       "      <td>0</td>\n",
       "      <td>1</td>\n",
       "      <td>1</td>\n",
       "      <td>12</td>\n",
       "      <td>648</td>\n",
       "      <td>6</td>\n",
       "      <td>324</td>\n",
       "      <td>6</td>\n",
       "      <td>324</td>\n",
       "    </tr>\n",
       "    <tr>\n",
       "      <th>3</th>\n",
       "      <td>2415</td>\n",
       "      <td>8000</td>\n",
       "      <td>6</td>\n",
       "      <td>54</td>\n",
       "      <td>0</td>\n",
       "      <td>0</td>\n",
       "      <td>1</td>\n",
       "      <td>1</td>\n",
       "      <td>0</td>\n",
       "      <td>0</td>\n",
       "      <td>0</td>\n",
       "      <td>1</td>\n",
       "      <td>1</td>\n",
       "      <td>10</td>\n",
       "      <td>540</td>\n",
       "      <td>5</td>\n",
       "      <td>270</td>\n",
       "      <td>5</td>\n",
       "      <td>270</td>\n",
       "    </tr>\n",
       "    <tr>\n",
       "      <th>4</th>\n",
       "      <td>2416</td>\n",
       "      <td>8000</td>\n",
       "      <td>6</td>\n",
       "      <td>54</td>\n",
       "      <td>0</td>\n",
       "      <td>0</td>\n",
       "      <td>1</td>\n",
       "      <td>1</td>\n",
       "      <td>0</td>\n",
       "      <td>0</td>\n",
       "      <td>0</td>\n",
       "      <td>1</td>\n",
       "      <td>1</td>\n",
       "      <td>6</td>\n",
       "      <td>324</td>\n",
       "      <td>3</td>\n",
       "      <td>162</td>\n",
       "      <td>3</td>\n",
       "      <td>162</td>\n",
       "    </tr>\n",
       "    <tr>\n",
       "      <th>...</th>\n",
       "      <td>...</td>\n",
       "      <td>...</td>\n",
       "      <td>...</td>\n",
       "      <td>...</td>\n",
       "      <td>...</td>\n",
       "      <td>...</td>\n",
       "      <td>...</td>\n",
       "      <td>...</td>\n",
       "      <td>...</td>\n",
       "      <td>...</td>\n",
       "      <td>...</td>\n",
       "      <td>...</td>\n",
       "      <td>...</td>\n",
       "      <td>...</td>\n",
       "      <td>...</td>\n",
       "      <td>...</td>\n",
       "      <td>...</td>\n",
       "      <td>...</td>\n",
       "      <td>...</td>\n",
       "    </tr>\n",
       "    <tr>\n",
       "      <th>151195</th>\n",
       "      <td>37360</td>\n",
       "      <td>8000</td>\n",
       "      <td>6</td>\n",
       "      <td>66</td>\n",
       "      <td>0</td>\n",
       "      <td>0</td>\n",
       "      <td>0</td>\n",
       "      <td>1</td>\n",
       "      <td>0</td>\n",
       "      <td>1</td>\n",
       "      <td>0</td>\n",
       "      <td>1</td>\n",
       "      <td>1</td>\n",
       "      <td>10</td>\n",
       "      <td>1146</td>\n",
       "      <td>6</td>\n",
       "      <td>560</td>\n",
       "      <td>4</td>\n",
       "      <td>586</td>\n",
       "    </tr>\n",
       "    <tr>\n",
       "      <th>151196</th>\n",
       "      <td>37362</td>\n",
       "      <td>8000</td>\n",
       "      <td>6</td>\n",
       "      <td>66</td>\n",
       "      <td>0</td>\n",
       "      <td>0</td>\n",
       "      <td>0</td>\n",
       "      <td>1</td>\n",
       "      <td>0</td>\n",
       "      <td>1</td>\n",
       "      <td>0</td>\n",
       "      <td>1</td>\n",
       "      <td>1</td>\n",
       "      <td>10</td>\n",
       "      <td>1151</td>\n",
       "      <td>6</td>\n",
       "      <td>560</td>\n",
       "      <td>4</td>\n",
       "      <td>591</td>\n",
       "    </tr>\n",
       "    <tr>\n",
       "      <th>151197</th>\n",
       "      <td>37364</td>\n",
       "      <td>8000</td>\n",
       "      <td>6</td>\n",
       "      <td>66</td>\n",
       "      <td>0</td>\n",
       "      <td>0</td>\n",
       "      <td>0</td>\n",
       "      <td>1</td>\n",
       "      <td>0</td>\n",
       "      <td>1</td>\n",
       "      <td>0</td>\n",
       "      <td>1</td>\n",
       "      <td>1</td>\n",
       "      <td>10</td>\n",
       "      <td>1144</td>\n",
       "      <td>6</td>\n",
       "      <td>560</td>\n",
       "      <td>4</td>\n",
       "      <td>584</td>\n",
       "    </tr>\n",
       "    <tr>\n",
       "      <th>151198</th>\n",
       "      <td>37366</td>\n",
       "      <td>8000</td>\n",
       "      <td>6</td>\n",
       "      <td>66</td>\n",
       "      <td>0</td>\n",
       "      <td>0</td>\n",
       "      <td>0</td>\n",
       "      <td>1</td>\n",
       "      <td>0</td>\n",
       "      <td>1</td>\n",
       "      <td>0</td>\n",
       "      <td>1</td>\n",
       "      <td>1</td>\n",
       "      <td>10</td>\n",
       "      <td>1175</td>\n",
       "      <td>6</td>\n",
       "      <td>560</td>\n",
       "      <td>4</td>\n",
       "      <td>615</td>\n",
       "    </tr>\n",
       "    <tr>\n",
       "      <th>151199</th>\n",
       "      <td>37368</td>\n",
       "      <td>8000</td>\n",
       "      <td>6</td>\n",
       "      <td>66</td>\n",
       "      <td>0</td>\n",
       "      <td>0</td>\n",
       "      <td>0</td>\n",
       "      <td>1</td>\n",
       "      <td>0</td>\n",
       "      <td>1</td>\n",
       "      <td>0</td>\n",
       "      <td>1</td>\n",
       "      <td>1</td>\n",
       "      <td>10</td>\n",
       "      <td>1146</td>\n",
       "      <td>6</td>\n",
       "      <td>560</td>\n",
       "      <td>4</td>\n",
       "      <td>586</td>\n",
       "    </tr>\n",
       "  </tbody>\n",
       "</table>\n",
       "<p>151200 rows × 19 columns</p>\n",
       "</div>"
      ],
      "text/plain": [
       "        tcp.srcport  tcp.dstport  ip.proto  frame.len  tcp.flags.syn  \\\n",
       "0              2412         8000         6         54              0   \n",
       "1              2413         8000         6         54              0   \n",
       "2              2414         8000         6         54              0   \n",
       "3              2415         8000         6         54              0   \n",
       "4              2416         8000         6         54              0   \n",
       "...             ...          ...       ...        ...            ...   \n",
       "151195        37360         8000         6         66              0   \n",
       "151196        37362         8000         6         66              0   \n",
       "151197        37364         8000         6         66              0   \n",
       "151198        37366         8000         6         66              0   \n",
       "151199        37368         8000         6         66              0   \n",
       "\n",
       "        tcp.flags.reset  tcp.flags.push  tcp.flags.ack  ip.flags.mf  \\\n",
       "0                     0               1              1            0   \n",
       "1                     0               1              1            0   \n",
       "2                     0               1              1            0   \n",
       "3                     0               1              1            0   \n",
       "4                     0               1              1            0   \n",
       "...                 ...             ...            ...          ...   \n",
       "151195                0               0              1            0   \n",
       "151196                0               0              1            0   \n",
       "151197                0               0              1            0   \n",
       "151198                0               0              1            0   \n",
       "151199                0               0              1            0   \n",
       "\n",
       "        ip.flags.df  ip.flags.rb  tcp.seq  tcp.ack  Packets  Bytes  \\\n",
       "0                 0            0        1        1        8    432   \n",
       "1                 0            0        1        1       10    540   \n",
       "2                 0            0        1        1       12    648   \n",
       "3                 0            0        1        1       10    540   \n",
       "4                 0            0        1        1        6    324   \n",
       "...             ...          ...      ...      ...      ...    ...   \n",
       "151195            1            0        1        1       10   1146   \n",
       "151196            1            0        1        1       10   1151   \n",
       "151197            1            0        1        1       10   1144   \n",
       "151198            1            0        1        1       10   1175   \n",
       "151199            1            0        1        1       10   1146   \n",
       "\n",
       "        Tx Packets  Tx Bytes  Rx Packets  Rx Bytes  \n",
       "0                4       216           4       216  \n",
       "1                5       270           5       270  \n",
       "2                6       324           6       324  \n",
       "3                5       270           5       270  \n",
       "4                3       162           3       162  \n",
       "...            ...       ...         ...       ...  \n",
       "151195           6       560           4       586  \n",
       "151196           6       560           4       591  \n",
       "151197           6       560           4       584  \n",
       "151198           6       560           4       615  \n",
       "151199           6       560           4       586  \n",
       "\n",
       "[151200 rows x 19 columns]"
      ]
     },
     "execution_count": 29,
     "metadata": {},
     "output_type": "execute_result"
    }
   ],
   "source": [
    "X"
   ]
  },
  {
   "cell_type": "code",
   "execution_count": 31,
   "id": "a538fefd",
   "metadata": {},
   "outputs": [
    {
     "data": {
      "text/plain": [
       "0         2\n",
       "1         2\n",
       "2         2\n",
       "3         2\n",
       "4         2\n",
       "         ..\n",
       "151195    0\n",
       "151196    0\n",
       "151197    0\n",
       "151198    0\n",
       "151199    0\n",
       "Name: Label, Length: 151200, dtype: int32"
      ]
     },
     "execution_count": 31,
     "metadata": {},
     "output_type": "execute_result"
    }
   ],
   "source": [
    "y"
   ]
  },
  {
   "cell_type": "markdown",
   "id": "c4d3e2c2",
   "metadata": {},
   "source": [
    "# Data Splitting"
   ]
  },
  {
   "cell_type": "code",
   "execution_count": 33,
   "id": "b17921e8",
   "metadata": {},
   "outputs": [],
   "source": [
    "from sklearn.preprocessing import StandardScaler\n",
    "from sklearn.model_selection import train_test_split\n",
    "\n",
    "X_train, X_test, y_train, y_test = train_test_split(X, y,test_size=0.30, random_state=1)"
   ]
  },
  {
   "cell_type": "code",
   "execution_count": 35,
   "id": "c0da7ff6",
   "metadata": {},
   "outputs": [],
   "source": [
    "from sklearn.model_selection import cross_val_score\n",
    "from sklearn.metrics import classification_report\n",
    "from sklearn.metrics import confusion_matrix\n",
    "from sklearn.metrics import accuracy_score"
   ]
  },
  {
   "cell_type": "markdown",
   "id": "7933611a",
   "metadata": {},
   "source": [
    "# Random Forest"
   ]
  },
  {
   "cell_type": "code",
   "execution_count": 37,
   "id": "b6bdfe8c",
   "metadata": {},
   "outputs": [
    {
     "name": "stdout",
     "output_type": "stream",
     "text": [
      "*Confusion Matrix for RF: \n",
      "[[22664     0     0]\n",
      " [    0 11228     0]\n",
      " [    0     0 11468]]\n"
     ]
    }
   ],
   "source": [
    "from sklearn.ensemble import RandomForestClassifier\n",
    "RF = RandomForestClassifier()\n",
    "RF.fit(X_train, y_train)\n",
    "predictions = RF.predict(X_test)\n",
    "print(\"*Confusion Matrix for RF: \")\n",
    "print(confusion_matrix(y_test, predictions))"
   ]
  },
  {
   "cell_type": "code",
   "execution_count": 21,
   "id": "1ede1e96",
   "metadata": {},
   "outputs": [
    {
     "name": "stdout",
     "output_type": "stream",
     "text": [
      "*Classification Matrix for RF: \n",
      "              precision    recall  f1-score   support\n",
      "\n",
      "           0       1.00      1.00      1.00     22664\n",
      "           1       1.00      1.00      1.00     11228\n",
      "           2       1.00      1.00      1.00     11468\n",
      "\n",
      "    accuracy                           1.00     45360\n",
      "   macro avg       1.00      1.00      1.00     45360\n",
      "weighted avg       1.00      1.00      1.00     45360\n",
      "\n"
     ]
    }
   ],
   "source": [
    "print(\"*Classification Matrix for RF: \")\n",
    "print(classification_report(y_test, predictions))"
   ]
  },
  {
   "cell_type": "code",
   "execution_count": 38,
   "id": "0e570a65",
   "metadata": {},
   "outputs": [
    {
     "name": "stdout",
     "output_type": "stream",
     "text": [
      "100.0\n"
     ]
    }
   ],
   "source": [
    "val1 = accuracy_score(y_test, predictions) *100\n",
    "print(val1)"
   ]
  },
  {
   "cell_type": "code",
   "execution_count": 41,
   "id": "6abd6f29",
   "metadata": {},
   "outputs": [
    {
     "name": "stdout",
     "output_type": "stream",
     "text": [
      "Precision: 1.000\n",
      "Recall: 1.000\n",
      "F1 Score: 1.000\n",
      "Kappa Score: 1.000\n"
     ]
    }
   ],
   "source": [
    "from sklearn.metrics import precision_score, recall_score, f1_score,cohen_kappa_score\n",
    "print('Precision: %.3f' % precision_score(y_test, predictions,average='weighted'))\n",
    "\n",
    "print('Recall: %.3f' % recall_score(y_test, predictions,average='weighted'))\n",
    "\n",
    "print('F1 Score: %.3f' % f1_score(y_test, predictions,average='weighted'))\n",
    "\n",
    "print('Kappa Score: %.3f' % cohen_kappa_score(y_test, predictions))"
   ]
  },
  {
   "cell_type": "markdown",
   "id": "95bd1a53",
   "metadata": {},
   "source": [
    "# Decision Tree"
   ]
  },
  {
   "cell_type": "code",
   "execution_count": 43,
   "id": "b6810ebe",
   "metadata": {},
   "outputs": [
    {
     "name": "stdout",
     "output_type": "stream",
     "text": [
      "*Confusion Matrix for DT: \n",
      "[[22664     0     0]\n",
      " [    0 11228     0]\n",
      " [    0     0 11468]]\n"
     ]
    }
   ],
   "source": [
    "from sklearn import tree\n",
    "DT = tree.DecisionTreeClassifier()\n",
    "DT.fit(X_train, y_train)\n",
    "predictions = DT.predict(X_test)\n",
    "print(\"*Confusion Matrix for DT: \")\n",
    "print(confusion_matrix(y_test, predictions))"
   ]
  },
  {
   "cell_type": "code",
   "execution_count": 45,
   "id": "c7492278",
   "metadata": {},
   "outputs": [
    {
     "name": "stdout",
     "output_type": "stream",
     "text": [
      "*Classification Matrix for DT: \n",
      "              precision    recall  f1-score   support\n",
      "\n",
      "           0       1.00      1.00      1.00     22664\n",
      "           1       1.00      1.00      1.00     11228\n",
      "           2       1.00      1.00      1.00     11468\n",
      "\n",
      "    accuracy                           1.00     45360\n",
      "   macro avg       1.00      1.00      1.00     45360\n",
      "weighted avg       1.00      1.00      1.00     45360\n",
      "\n"
     ]
    }
   ],
   "source": [
    "print(\"*Classification Matrix for DT: \")\n",
    "print(classification_report(y_test, predictions))"
   ]
  },
  {
   "cell_type": "code",
   "execution_count": 47,
   "id": "a9a49463",
   "metadata": {},
   "outputs": [
    {
     "name": "stdout",
     "output_type": "stream",
     "text": [
      "accuracy score for DT :  100.0\n",
      "Precision: 1.000\n",
      "Recall: 1.000\n",
      "F1 Score: 1.000\n",
      "Kappa Score: 1.000\n"
     ]
    }
   ],
   "source": [
    "val2 = accuracy_score(y_test, predictions) *100\n",
    "print(\"accuracy score for DT : \", val2)\n",
    "from sklearn.metrics import precision_score, recall_score, f1_score,cohen_kappa_score\n",
    "print('Precision: %.3f' % precision_score(y_test, predictions,average='weighted'))\n",
    "\n",
    "print('Recall: %.3f' % recall_score(y_test, predictions,average='weighted'))\n",
    "\n",
    "print('F1 Score: %.3f' % f1_score(y_test, predictions,average='weighted'))\n",
    "\n",
    "print('Kappa Score: %.3f' % cohen_kappa_score(y_test, predictions))"
   ]
  },
  {
   "cell_type": "markdown",
   "id": "efac4fdd",
   "metadata": {},
   "source": [
    "# KNN"
   ]
  },
  {
   "cell_type": "code",
   "execution_count": 55,
   "id": "5abfc8c5",
   "metadata": {},
   "outputs": [
    {
     "name": "stdout",
     "output_type": "stream",
     "text": [
      "*Confusion Matrix for KNN: \n",
      "[[22664     0     0]\n",
      " [    0  7053  4175]\n",
      " [    0  4035  7433]]\n"
     ]
    }
   ],
   "source": [
    "from sklearn.neighbors import KNeighborsClassifier\n",
    "neigh = KNeighborsClassifier()\n",
    "neigh.fit(X_train, y_train)\n",
    "predictions = neigh.predict(X_test)\n",
    "print(\"*Confusion Matrix for KNN: \")\n",
    "print(confusion_matrix(y_test, predictions))"
   ]
  },
  {
   "cell_type": "code",
   "execution_count": 50,
   "id": "b16938e9",
   "metadata": {},
   "outputs": [
    {
     "name": "stdout",
     "output_type": "stream",
     "text": [
      "*Classification Matrix for KNN: \n",
      "              precision    recall  f1-score   support\n",
      "\n",
      "           0       1.00      1.00      1.00     22664\n",
      "           1       0.64      0.63      0.63     11228\n",
      "           2       0.64      0.65      0.64     11468\n",
      "\n",
      "    accuracy                           0.82     45360\n",
      "   macro avg       0.76      0.76      0.76     45360\n",
      "weighted avg       0.82      0.82      0.82     45360\n",
      "\n"
     ]
    }
   ],
   "source": [
    "print(\"*Classification Matrix for KNN: \")\n",
    "print(classification_report(y_test, predictions))"
   ]
  },
  {
   "cell_type": "code",
   "execution_count": 54,
   "id": "70b11165",
   "metadata": {},
   "outputs": [
    {
     "name": "stdout",
     "output_type": "stream",
     "text": [
      "accuracy score for KNN :  81.90035273368606\n",
      "Precision: 0.819\n",
      "Recall: 0.819\n",
      "F1 Score: 0.819\n",
      "Kappa Score: 0.710\n"
     ]
    }
   ],
   "source": [
    "val3 = accuracy_score(y_test, predictions) *100\n",
    "print(\"accuracy score for KNN : \",val3)\n",
    "from sklearn.metrics import precision_score, recall_score, f1_score,cohen_kappa_score\n",
    "print('Precision: %.3f' % precision_score(y_test, predictions,average='weighted'))\n",
    "\n",
    "print('Recall: %.3f' % recall_score(y_test, predictions,average='weighted'))\n",
    "\n",
    "print('F1 Score: %.3f' % f1_score(y_test, predictions,average='weighted'))\n",
    "\n",
    "print('Kappa Score: %.3f' % cohen_kappa_score(y_test, predictions))"
   ]
  },
  {
   "cell_type": "markdown",
   "id": "aea10d99",
   "metadata": {},
   "source": [
    "# Logistic Regression"
   ]
  },
  {
   "cell_type": "code",
   "execution_count": 57,
   "id": "37865514",
   "metadata": {},
   "outputs": [
    {
     "name": "stdout",
     "output_type": "stream",
     "text": [
      "*Confusion Matrix for LR: \n",
      "[[22664     0     0]\n",
      " [    0 11228     0]\n",
      " [    0     0 11468]]\n"
     ]
    }
   ],
   "source": [
    "from sklearn.linear_model import LogisticRegression\n",
    "clf1 = LogisticRegression(random_state=0)\n",
    "clf1.fit(X_train, y_train)\n",
    "predictions = clf1.predict(X_test)\n",
    "print(\"*Confusion Matrix for LR: \")\n",
    "print(confusion_matrix(y_test, predictions))"
   ]
  },
  {
   "cell_type": "code",
   "execution_count": 58,
   "id": "5fb8f4e3",
   "metadata": {},
   "outputs": [
    {
     "name": "stdout",
     "output_type": "stream",
     "text": [
      "*Classification Matrix for LR: \n",
      "              precision    recall  f1-score   support\n",
      "\n",
      "           0       1.00      1.00      1.00     22664\n",
      "           1       1.00      1.00      1.00     11228\n",
      "           2       1.00      1.00      1.00     11468\n",
      "\n",
      "    accuracy                           1.00     45360\n",
      "   macro avg       1.00      1.00      1.00     45360\n",
      "weighted avg       1.00      1.00      1.00     45360\n",
      "\n"
     ]
    }
   ],
   "source": [
    "print(\"*Classification Matrix for LR: \")\n",
    "print(classification_report(y_test, predictions))"
   ]
  },
  {
   "cell_type": "code",
   "execution_count": 59,
   "id": "dd4b9e34",
   "metadata": {},
   "outputs": [
    {
     "name": "stdout",
     "output_type": "stream",
     "text": [
      "accuracy score for LR:  100.0\n",
      "Precision: 1.000\n",
      "Recall: 1.000\n",
      "F1 Score: 1.000\n",
      "Kappa Score: 1.000\n"
     ]
    }
   ],
   "source": [
    "val4 = accuracy_score(y_test, predictions) *100\n",
    "print(\"accuracy score for LR: \",val4)\n",
    "from sklearn.metrics import precision_score, recall_score, f1_score,cohen_kappa_score\n",
    "print('Precision: %.3f' % precision_score(y_test, predictions,average='weighted'))\n",
    "\n",
    "print('Recall: %.3f' % recall_score(y_test, predictions,average='weighted'))\n",
    "\n",
    "print('F1 Score: %.3f' % f1_score(y_test, predictions,average='weighted'))\n",
    "\n",
    "print('Kappa Score: %.3f' % cohen_kappa_score(y_test, predictions))"
   ]
  },
  {
   "cell_type": "markdown",
   "id": "74c8bd19",
   "metadata": {},
   "source": [
    "# Voting Classifier"
   ]
  },
  {
   "cell_type": "code",
   "execution_count": 64,
   "id": "11abc351",
   "metadata": {},
   "outputs": [
    {
     "name": "stdout",
     "output_type": "stream",
     "text": [
      "*Confusion Matrix for Voting Classifier: \n",
      "[[75600     0     0]\n",
      " [    0 37800     0]\n",
      " [    0     0 37800]]\n"
     ]
    }
   ],
   "source": [
    "from sklearn.svm import SVC\n",
    "from sklearn.tree import DecisionTreeClassifier\n",
    "from sklearn.ensemble import RandomForestClassifier, VotingClassifier\n",
    "clf1 = KNeighborsClassifier()\n",
    "clf2 = RandomForestClassifier(n_estimators=50, random_state=1)\n",
    "clf3 = DecisionTreeClassifier()\n",
    "eclf1 = VotingClassifier(estimators=[('lr', clf1), ('rf', clf2), ('dt', clf3)], voting='soft')\n",
    "eclf1.fit(X, y)\n",
    "predictions = eclf1.predict(X)\n",
    "print(\"*Confusion Matrix for Voting Classifier: \")\n",
    "print(confusion_matrix(y, predictions))"
   ]
  },
  {
   "cell_type": "code",
   "execution_count": 65,
   "id": "b5ba0bf2",
   "metadata": {},
   "outputs": [
    {
     "name": "stdout",
     "output_type": "stream",
     "text": [
      "*Classification Matrix for Voting Classifier: \n",
      "              precision    recall  f1-score   support\n",
      "\n",
      "           0       1.00      1.00      1.00     75600\n",
      "           1       1.00      1.00      1.00     37800\n",
      "           2       1.00      1.00      1.00     37800\n",
      "\n",
      "    accuracy                           1.00    151200\n",
      "   macro avg       1.00      1.00      1.00    151200\n",
      "weighted avg       1.00      1.00      1.00    151200\n",
      "\n"
     ]
    }
   ],
   "source": [
    "print(\"*Classification Matrix for Voting Classifier: \")\n",
    "print(classification_report(y, predictions))"
   ]
  },
  {
   "cell_type": "code",
   "execution_count": 66,
   "id": "ede34d89",
   "metadata": {},
   "outputs": [
    {
     "name": "stdout",
     "output_type": "stream",
     "text": [
      " accuracy score for VC :  100.0\n",
      "Precision: 1.000\n",
      "Recall: 1.000\n",
      "F1 Score: 1.000\n",
      "Kappa Score: 1.000\n"
     ]
    }
   ],
   "source": [
    "val5 = accuracy_score(y, predictions) *100\n",
    "print(\" accuracy score for VC : \", val5)\n",
    "from sklearn.metrics import precision_score, recall_score, f1_score,cohen_kappa_score\n",
    "print('Precision: %.3f' % precision_score(y, predictions,average='weighted'))\n",
    "\n",
    "print('Recall: %.3f' % recall_score(y, predictions,average='weighted'))\n",
    "\n",
    "print('F1 Score: %.3f' % f1_score(y, predictions,average='weighted'))\n",
    "\n",
    "print('Kappa Score: %.3f' % cohen_kappa_score(y, predictions))"
   ]
  },
  {
   "cell_type": "markdown",
   "id": "d1706c75",
   "metadata": {},
   "source": [
    "# XGBoost"
   ]
  },
  {
   "cell_type": "code",
   "execution_count": 36,
   "id": "e3ca9718",
   "metadata": {},
   "outputs": [
    {
     "name": "stdout",
     "output_type": "stream",
     "text": [
      "*Confusion Matrix for XGBoost: \n",
      "[[75600     0     0]\n",
      " [    0 37800     0]\n",
      " [    0     0 37800]]\n"
     ]
    }
   ],
   "source": [
    "from xgboost import XGBClassifier\n",
    "clf1 = XGBClassifier()\n",
    "clf1.fit(X,y)\n",
    "predictions = clf1.predict(X)\n",
    "print(\"*Confusion Matrix for XGBoost: \")\n",
    "print(confusion_matrix(y, predictions))"
   ]
  },
  {
   "cell_type": "code",
   "execution_count": 37,
   "id": "54e43277",
   "metadata": {},
   "outputs": [
    {
     "name": "stdout",
     "output_type": "stream",
     "text": [
      "*Classification Matrix for ANN: \n",
      "              precision    recall  f1-score   support\n",
      "\n",
      "           0       1.00      1.00      1.00     75600\n",
      "           1       1.00      1.00      1.00     37800\n",
      "           2       1.00      1.00      1.00     37800\n",
      "\n",
      "    accuracy                           1.00    151200\n",
      "   macro avg       1.00      1.00      1.00    151200\n",
      "weighted avg       1.00      1.00      1.00    151200\n",
      "\n"
     ]
    }
   ],
   "source": [
    "print(\"*Classification Matrix for ANN: \")\n",
    "print(classification_report(y, predictions))"
   ]
  },
  {
   "cell_type": "code",
   "execution_count": 38,
   "id": "50ebc325",
   "metadata": {},
   "outputs": [
    {
     "name": "stdout",
     "output_type": "stream",
     "text": [
      "accuracy score for ANN 100.0\n",
      "Precision: 1.000\n",
      "Recall: 1.000\n",
      "F1 Score: 1.000\n",
      "Kappa Score: 1.000\n"
     ]
    }
   ],
   "source": [
    "val6 = accuracy_score(y, predictions) *100\n",
    "print(\"accuracy score for ANN\" ,val6)\n",
    "from sklearn.metrics import precision_score, recall_score, f1_score,cohen_kappa_score\n",
    "print('Precision: %.3f' % precision_score(y, predictions,average='weighted'))\n",
    "\n",
    "print('Recall: %.3f' % recall_score(y, predictions,average='weighted'))\n",
    "\n",
    "print('F1 Score: %.3f' % f1_score(y, predictions,average='weighted'))\n",
    "\n",
    "print('Kappa Score: %.3f' % cohen_kappa_score(y, predictions))"
   ]
  },
  {
   "cell_type": "markdown",
   "id": "615713ce",
   "metadata": {},
   "source": [
    "# SVM"
   ]
  },
  {
   "cell_type": "code",
   "execution_count": 39,
   "id": "90741797",
   "metadata": {},
   "outputs": [],
   "source": [
    "from sklearn.svm import SVC"
   ]
  },
  {
   "cell_type": "code",
   "execution_count": 40,
   "id": "44986429",
   "metadata": {},
   "outputs": [
    {
     "name": "stdout",
     "output_type": "stream",
     "text": [
      "*Confusion Matrix for SVC: \n",
      "[[22664     0     0]\n",
      " [    0  3185  8043]\n",
      " [    0  2529  8939]]\n"
     ]
    }
   ],
   "source": [
    "clf_fuzz = SVC()\n",
    "clf_fuzz.fit(X_train, y_train)\n",
    "predictions = clf_fuzz.predict(X_test)\n",
    "print(\"*Confusion Matrix for SVC: \")\n",
    "print(confusion_matrix(y_test, predictions))"
   ]
  },
  {
   "cell_type": "code",
   "execution_count": 41,
   "id": "3fe75232",
   "metadata": {},
   "outputs": [
    {
     "name": "stdout",
     "output_type": "stream",
     "text": [
      "*Classification Matrix for SVC: \n",
      "              precision    recall  f1-score   support\n",
      "\n",
      "           0       1.00      1.00      1.00     22664\n",
      "           1       0.56      0.28      0.38     11228\n",
      "           2       0.53      0.78      0.63     11468\n",
      "\n",
      "    accuracy                           0.77     45360\n",
      "   macro avg       0.69      0.69      0.67     45360\n",
      "weighted avg       0.77      0.77      0.75     45360\n",
      "\n"
     ]
    }
   ],
   "source": [
    "print(\"*Classification Matrix for SVC: \")\n",
    "print(classification_report(y_test, predictions))"
   ]
  },
  {
   "cell_type": "code",
   "execution_count": 42,
   "id": "8b956456",
   "metadata": {},
   "outputs": [
    {
     "name": "stdout",
     "output_type": "stream",
     "text": [
      "accuracy score for SVC :  76.6931216931217\n",
      "Precision: 0.771\n",
      "Recall: 0.767\n",
      "F1 Score: 0.752\n",
      "Kappa Score: 0.627\n"
     ]
    }
   ],
   "source": [
    "val7 = accuracy_score(y_test, predictions) *100\n",
    "print(\"accuracy score for SVC : \",val7)\n",
    "from sklearn.metrics import precision_score, recall_score, f1_score,cohen_kappa_score\n",
    "print('Precision: %.3f' % precision_score(y_test, predictions,average='weighted'))\n",
    "\n",
    "print('Recall: %.3f' % recall_score(y_test, predictions,average='weighted'))\n",
    "\n",
    "print('F1 Score: %.3f' % f1_score(y_test, predictions,average='weighted'))\n",
    "\n",
    "print('Kappa Score: %.3f' % cohen_kappa_score(y_test, predictions))"
   ]
  },
  {
   "cell_type": "markdown",
   "id": "8cddda12",
   "metadata": {},
   "source": [
    "# Naive Bayes"
   ]
  },
  {
   "cell_type": "code",
   "execution_count": 43,
   "id": "34053483",
   "metadata": {},
   "outputs": [
    {
     "name": "stdout",
     "output_type": "stream",
     "text": [
      "*Confusion Matrix for NB: \n",
      "[[22664     0     0]\n",
      " [    0 11228     0]\n",
      " [    0    46 11422]]\n"
     ]
    }
   ],
   "source": [
    "from sklearn.naive_bayes import GaussianNB\n",
    "clf_fuzz = GaussianNB()\n",
    "clf_fuzz.fit(X_train, y_train)\n",
    "predictions = clf_fuzz.predict(X_test)\n",
    "print(\"*Confusion Matrix for NB: \")\n",
    "print(confusion_matrix(y_test, predictions))"
   ]
  },
  {
   "cell_type": "code",
   "execution_count": 44,
   "id": "fb246b36",
   "metadata": {},
   "outputs": [
    {
     "name": "stdout",
     "output_type": "stream",
     "text": [
      "*Classification Matrix for NB: \n",
      "              precision    recall  f1-score   support\n",
      "\n",
      "           0       1.00      1.00      1.00     22664\n",
      "           1       1.00      1.00      1.00     11228\n",
      "           2       1.00      1.00      1.00     11468\n",
      "\n",
      "    accuracy                           1.00     45360\n",
      "   macro avg       1.00      1.00      1.00     45360\n",
      "weighted avg       1.00      1.00      1.00     45360\n",
      "\n"
     ]
    }
   ],
   "source": [
    "print(\"*Classification Matrix for NB: \")\n",
    "print(classification_report(y_test, predictions))"
   ]
  },
  {
   "cell_type": "code",
   "execution_count": 45,
   "id": "58c5e0a9",
   "metadata": {},
   "outputs": [
    {
     "name": "stdout",
     "output_type": "stream",
     "text": [
      "accuracy score for NB:  99.89858906525572\n",
      "Precision: 0.999\n",
      "Recall: 0.999\n",
      "F1 Score: 0.999\n",
      "Kappa Score: 0.998\n"
     ]
    }
   ],
   "source": [
    "val8 = accuracy_score(y_test, predictions) *100\n",
    "print(\"accuracy score for NB: \",val8)\n",
    "from sklearn.metrics import precision_score, recall_score, f1_score,cohen_kappa_score\n",
    "print('Precision: %.3f' % precision_score(y_test, predictions,average='weighted'))\n",
    "\n",
    "print('Recall: %.3f' % recall_score(y_test, predictions,average='weighted'))\n",
    "\n",
    "print('F1 Score: %.3f' % f1_score(y_test, predictions,average='weighted'))\n",
    "\n",
    "print('Kappa Score: %.3f' % cohen_kappa_score(y_test, predictions))"
   ]
  },
  {
   "cell_type": "markdown",
   "id": "9d662740",
   "metadata": {},
   "source": [
    "# MLP - ANN"
   ]
  },
  {
   "cell_type": "code",
   "execution_count": 46,
   "id": "e1906c4d",
   "metadata": {},
   "outputs": [
    {
     "name": "stdout",
     "output_type": "stream",
     "text": [
      "*Confusion Matrix for ANN: \n",
      "[[75600     0     0]\n",
      " [    0 37800     0]\n",
      " [    0     0 37800]]\n",
      "*Classification Matrix for ANN: \n",
      "              precision    recall  f1-score   support\n",
      "\n",
      "           0       1.00      1.00      1.00     75600\n",
      "           1       1.00      1.00      1.00     37800\n",
      "           2       1.00      1.00      1.00     37800\n",
      "\n",
      "    accuracy                           1.00    151200\n",
      "   macro avg       1.00      1.00      1.00    151200\n",
      "weighted avg       1.00      1.00      1.00    151200\n",
      "\n"
     ]
    }
   ],
   "source": [
    "from sklearn.neural_network import MLPClassifier\n",
    "clf_fuzz = MLPClassifier(random_state=1, max_iter=300)\n",
    "clf_fuzz.fit(X, y)\n",
    "predictions = clf_fuzz.predict(X)\n",
    "print(\"*Confusion Matrix for ANN: \")\n",
    "print(confusion_matrix(y, predictions))\n",
    "\n",
    "print(\"*Classification Matrix for ANN: \")\n",
    "print(classification_report(y, predictions))"
   ]
  },
  {
   "cell_type": "code",
   "execution_count": 47,
   "id": "0622a0dd",
   "metadata": {},
   "outputs": [
    {
     "name": "stdout",
     "output_type": "stream",
     "text": [
      "accuracy score for ANN :  100.0\n",
      "Precision: 1.000\n",
      "Recall: 1.000\n",
      "F1 Score: 1.000\n",
      "Kappa Score: 1.000\n"
     ]
    }
   ],
   "source": [
    "val8a = accuracy_score(y, predictions) *100\n",
    "print(\"accuracy score for ANN : \",val8a)\n",
    "from sklearn.metrics import precision_score, recall_score, f1_score,cohen_kappa_score\n",
    "print('Precision: %.3f' % precision_score(y, predictions,average='weighted'))\n",
    "\n",
    "print('Recall: %.3f' % recall_score(y, predictions,average='weighted'))\n",
    "\n",
    "print('F1 Score: %.3f' % f1_score(y, predictions,average='weighted'))\n",
    "\n",
    "print('Kappa Score: %.3f' % cohen_kappa_score(y, predictions))"
   ]
  },
  {
   "cell_type": "markdown",
   "id": "512d42f0",
   "metadata": {},
   "source": [
    "# K-Means"
   ]
  },
  {
   "cell_type": "code",
   "execution_count": 48,
   "id": "28cbcbbf",
   "metadata": {},
   "outputs": [],
   "source": [
    "# Feature scaling using MinMaxScaler\n",
    "from sklearn.preprocessing import MinMaxScaler\n",
    "sc = MinMaxScaler(feature_range = (0, 1))\n",
    "dataset_scaled = sc.fit_transform(X)"
   ]
  },
  {
   "cell_type": "code",
   "execution_count": 49,
   "id": "4c1b52ab",
   "metadata": {},
   "outputs": [
    {
     "data": {
      "text/html": [
       "<div>\n",
       "<style scoped>\n",
       "    .dataframe tbody tr th:only-of-type {\n",
       "        vertical-align: middle;\n",
       "    }\n",
       "\n",
       "    .dataframe tbody tr th {\n",
       "        vertical-align: top;\n",
       "    }\n",
       "\n",
       "    .dataframe thead th {\n",
       "        text-align: right;\n",
       "    }\n",
       "</style>\n",
       "<table border=\"1\" class=\"dataframe\">\n",
       "  <thead>\n",
       "    <tr style=\"text-align: right;\">\n",
       "      <th></th>\n",
       "      <th>0</th>\n",
       "      <th>1</th>\n",
       "      <th>2</th>\n",
       "      <th>3</th>\n",
       "      <th>4</th>\n",
       "      <th>5</th>\n",
       "      <th>6</th>\n",
       "      <th>7</th>\n",
       "      <th>8</th>\n",
       "      <th>9</th>\n",
       "      <th>10</th>\n",
       "      <th>11</th>\n",
       "      <th>12</th>\n",
       "      <th>13</th>\n",
       "      <th>14</th>\n",
       "      <th>15</th>\n",
       "      <th>16</th>\n",
       "      <th>17</th>\n",
       "      <th>18</th>\n",
       "    </tr>\n",
       "  </thead>\n",
       "  <tbody>\n",
       "    <tr>\n",
       "      <th>0</th>\n",
       "      <td>0.018594</td>\n",
       "      <td>0.0</td>\n",
       "      <td>0.0</td>\n",
       "      <td>0.000000</td>\n",
       "      <td>0.0</td>\n",
       "      <td>0.0</td>\n",
       "      <td>1.0</td>\n",
       "      <td>0.0</td>\n",
       "      <td>0.0</td>\n",
       "      <td>0.0</td>\n",
       "      <td>0.0</td>\n",
       "      <td>0.0</td>\n",
       "      <td>0.0</td>\n",
       "      <td>0.368421</td>\n",
       "      <td>0.321702</td>\n",
       "      <td>0.333333</td>\n",
       "      <td>0.319527</td>\n",
       "      <td>0.4</td>\n",
       "      <td>0.323353</td>\n",
       "    </tr>\n",
       "    <tr>\n",
       "      <th>1</th>\n",
       "      <td>0.018611</td>\n",
       "      <td>0.0</td>\n",
       "      <td>0.0</td>\n",
       "      <td>0.000000</td>\n",
       "      <td>0.0</td>\n",
       "      <td>0.0</td>\n",
       "      <td>1.0</td>\n",
       "      <td>0.0</td>\n",
       "      <td>0.0</td>\n",
       "      <td>0.0</td>\n",
       "      <td>0.0</td>\n",
       "      <td>0.0</td>\n",
       "      <td>0.0</td>\n",
       "      <td>0.473684</td>\n",
       "      <td>0.413617</td>\n",
       "      <td>0.444444</td>\n",
       "      <td>0.426036</td>\n",
       "      <td>0.5</td>\n",
       "      <td>0.404192</td>\n",
       "    </tr>\n",
       "    <tr>\n",
       "      <th>2</th>\n",
       "      <td>0.018628</td>\n",
       "      <td>0.0</td>\n",
       "      <td>0.0</td>\n",
       "      <td>0.000000</td>\n",
       "      <td>0.0</td>\n",
       "      <td>0.0</td>\n",
       "      <td>1.0</td>\n",
       "      <td>0.0</td>\n",
       "      <td>0.0</td>\n",
       "      <td>0.0</td>\n",
       "      <td>0.0</td>\n",
       "      <td>0.0</td>\n",
       "      <td>0.0</td>\n",
       "      <td>0.578947</td>\n",
       "      <td>0.505532</td>\n",
       "      <td>0.555556</td>\n",
       "      <td>0.532544</td>\n",
       "      <td>0.6</td>\n",
       "      <td>0.485030</td>\n",
       "    </tr>\n",
       "    <tr>\n",
       "      <th>3</th>\n",
       "      <td>0.018644</td>\n",
       "      <td>0.0</td>\n",
       "      <td>0.0</td>\n",
       "      <td>0.000000</td>\n",
       "      <td>0.0</td>\n",
       "      <td>0.0</td>\n",
       "      <td>1.0</td>\n",
       "      <td>0.0</td>\n",
       "      <td>0.0</td>\n",
       "      <td>0.0</td>\n",
       "      <td>0.0</td>\n",
       "      <td>0.0</td>\n",
       "      <td>0.0</td>\n",
       "      <td>0.473684</td>\n",
       "      <td>0.413617</td>\n",
       "      <td>0.444444</td>\n",
       "      <td>0.426036</td>\n",
       "      <td>0.5</td>\n",
       "      <td>0.404192</td>\n",
       "    </tr>\n",
       "    <tr>\n",
       "      <th>4</th>\n",
       "      <td>0.018661</td>\n",
       "      <td>0.0</td>\n",
       "      <td>0.0</td>\n",
       "      <td>0.000000</td>\n",
       "      <td>0.0</td>\n",
       "      <td>0.0</td>\n",
       "      <td>1.0</td>\n",
       "      <td>0.0</td>\n",
       "      <td>0.0</td>\n",
       "      <td>0.0</td>\n",
       "      <td>0.0</td>\n",
       "      <td>0.0</td>\n",
       "      <td>0.0</td>\n",
       "      <td>0.263158</td>\n",
       "      <td>0.229787</td>\n",
       "      <td>0.222222</td>\n",
       "      <td>0.213018</td>\n",
       "      <td>0.3</td>\n",
       "      <td>0.242515</td>\n",
       "    </tr>\n",
       "    <tr>\n",
       "      <th>...</th>\n",
       "      <td>...</td>\n",
       "      <td>...</td>\n",
       "      <td>...</td>\n",
       "      <td>...</td>\n",
       "      <td>...</td>\n",
       "      <td>...</td>\n",
       "      <td>...</td>\n",
       "      <td>...</td>\n",
       "      <td>...</td>\n",
       "      <td>...</td>\n",
       "      <td>...</td>\n",
       "      <td>...</td>\n",
       "      <td>...</td>\n",
       "      <td>...</td>\n",
       "      <td>...</td>\n",
       "      <td>...</td>\n",
       "      <td>...</td>\n",
       "      <td>...</td>\n",
       "      <td>...</td>\n",
       "    </tr>\n",
       "    <tr>\n",
       "      <th>151195</th>\n",
       "      <td>0.604027</td>\n",
       "      <td>0.0</td>\n",
       "      <td>0.0</td>\n",
       "      <td>0.071006</td>\n",
       "      <td>0.0</td>\n",
       "      <td>0.0</td>\n",
       "      <td>0.0</td>\n",
       "      <td>0.0</td>\n",
       "      <td>0.0</td>\n",
       "      <td>1.0</td>\n",
       "      <td>0.0</td>\n",
       "      <td>0.0</td>\n",
       "      <td>0.0</td>\n",
       "      <td>0.473684</td>\n",
       "      <td>0.929362</td>\n",
       "      <td>0.555556</td>\n",
       "      <td>0.998028</td>\n",
       "      <td>0.4</td>\n",
       "      <td>0.877246</td>\n",
       "    </tr>\n",
       "    <tr>\n",
       "      <th>151196</th>\n",
       "      <td>0.604061</td>\n",
       "      <td>0.0</td>\n",
       "      <td>0.0</td>\n",
       "      <td>0.071006</td>\n",
       "      <td>0.0</td>\n",
       "      <td>0.0</td>\n",
       "      <td>0.0</td>\n",
       "      <td>0.0</td>\n",
       "      <td>0.0</td>\n",
       "      <td>1.0</td>\n",
       "      <td>0.0</td>\n",
       "      <td>0.0</td>\n",
       "      <td>0.0</td>\n",
       "      <td>0.473684</td>\n",
       "      <td>0.933617</td>\n",
       "      <td>0.555556</td>\n",
       "      <td>0.998028</td>\n",
       "      <td>0.4</td>\n",
       "      <td>0.884731</td>\n",
       "    </tr>\n",
       "    <tr>\n",
       "      <th>151197</th>\n",
       "      <td>0.604094</td>\n",
       "      <td>0.0</td>\n",
       "      <td>0.0</td>\n",
       "      <td>0.071006</td>\n",
       "      <td>0.0</td>\n",
       "      <td>0.0</td>\n",
       "      <td>0.0</td>\n",
       "      <td>0.0</td>\n",
       "      <td>0.0</td>\n",
       "      <td>1.0</td>\n",
       "      <td>0.0</td>\n",
       "      <td>0.0</td>\n",
       "      <td>0.0</td>\n",
       "      <td>0.473684</td>\n",
       "      <td>0.927660</td>\n",
       "      <td>0.555556</td>\n",
       "      <td>0.998028</td>\n",
       "      <td>0.4</td>\n",
       "      <td>0.874251</td>\n",
       "    </tr>\n",
       "    <tr>\n",
       "      <th>151198</th>\n",
       "      <td>0.604128</td>\n",
       "      <td>0.0</td>\n",
       "      <td>0.0</td>\n",
       "      <td>0.071006</td>\n",
       "      <td>0.0</td>\n",
       "      <td>0.0</td>\n",
       "      <td>0.0</td>\n",
       "      <td>0.0</td>\n",
       "      <td>0.0</td>\n",
       "      <td>1.0</td>\n",
       "      <td>0.0</td>\n",
       "      <td>0.0</td>\n",
       "      <td>0.0</td>\n",
       "      <td>0.473684</td>\n",
       "      <td>0.954043</td>\n",
       "      <td>0.555556</td>\n",
       "      <td>0.998028</td>\n",
       "      <td>0.4</td>\n",
       "      <td>0.920659</td>\n",
       "    </tr>\n",
       "    <tr>\n",
       "      <th>151199</th>\n",
       "      <td>0.604161</td>\n",
       "      <td>0.0</td>\n",
       "      <td>0.0</td>\n",
       "      <td>0.071006</td>\n",
       "      <td>0.0</td>\n",
       "      <td>0.0</td>\n",
       "      <td>0.0</td>\n",
       "      <td>0.0</td>\n",
       "      <td>0.0</td>\n",
       "      <td>1.0</td>\n",
       "      <td>0.0</td>\n",
       "      <td>0.0</td>\n",
       "      <td>0.0</td>\n",
       "      <td>0.473684</td>\n",
       "      <td>0.929362</td>\n",
       "      <td>0.555556</td>\n",
       "      <td>0.998028</td>\n",
       "      <td>0.4</td>\n",
       "      <td>0.877246</td>\n",
       "    </tr>\n",
       "  </tbody>\n",
       "</table>\n",
       "<p>151200 rows × 19 columns</p>\n",
       "</div>"
      ],
      "text/plain": [
       "              0    1    2         3    4    5    6    7    8    9    10   11  \\\n",
       "0       0.018594  0.0  0.0  0.000000  0.0  0.0  1.0  0.0  0.0  0.0  0.0  0.0   \n",
       "1       0.018611  0.0  0.0  0.000000  0.0  0.0  1.0  0.0  0.0  0.0  0.0  0.0   \n",
       "2       0.018628  0.0  0.0  0.000000  0.0  0.0  1.0  0.0  0.0  0.0  0.0  0.0   \n",
       "3       0.018644  0.0  0.0  0.000000  0.0  0.0  1.0  0.0  0.0  0.0  0.0  0.0   \n",
       "4       0.018661  0.0  0.0  0.000000  0.0  0.0  1.0  0.0  0.0  0.0  0.0  0.0   \n",
       "...          ...  ...  ...       ...  ...  ...  ...  ...  ...  ...  ...  ...   \n",
       "151195  0.604027  0.0  0.0  0.071006  0.0  0.0  0.0  0.0  0.0  1.0  0.0  0.0   \n",
       "151196  0.604061  0.0  0.0  0.071006  0.0  0.0  0.0  0.0  0.0  1.0  0.0  0.0   \n",
       "151197  0.604094  0.0  0.0  0.071006  0.0  0.0  0.0  0.0  0.0  1.0  0.0  0.0   \n",
       "151198  0.604128  0.0  0.0  0.071006  0.0  0.0  0.0  0.0  0.0  1.0  0.0  0.0   \n",
       "151199  0.604161  0.0  0.0  0.071006  0.0  0.0  0.0  0.0  0.0  1.0  0.0  0.0   \n",
       "\n",
       "         12        13        14        15        16   17        18  \n",
       "0       0.0  0.368421  0.321702  0.333333  0.319527  0.4  0.323353  \n",
       "1       0.0  0.473684  0.413617  0.444444  0.426036  0.5  0.404192  \n",
       "2       0.0  0.578947  0.505532  0.555556  0.532544  0.6  0.485030  \n",
       "3       0.0  0.473684  0.413617  0.444444  0.426036  0.5  0.404192  \n",
       "4       0.0  0.263158  0.229787  0.222222  0.213018  0.3  0.242515  \n",
       "...     ...       ...       ...       ...       ...  ...       ...  \n",
       "151195  0.0  0.473684  0.929362  0.555556  0.998028  0.4  0.877246  \n",
       "151196  0.0  0.473684  0.933617  0.555556  0.998028  0.4  0.884731  \n",
       "151197  0.0  0.473684  0.927660  0.555556  0.998028  0.4  0.874251  \n",
       "151198  0.0  0.473684  0.954043  0.555556  0.998028  0.4  0.920659  \n",
       "151199  0.0  0.473684  0.929362  0.555556  0.998028  0.4  0.877246  \n",
       "\n",
       "[151200 rows x 19 columns]"
      ]
     },
     "execution_count": 49,
     "metadata": {},
     "output_type": "execute_result"
    }
   ],
   "source": [
    "data1 = pd.DataFrame(dataset_scaled)\n",
    "data1"
   ]
  },
  {
   "cell_type": "code",
   "execution_count": 50,
   "id": "035d0a67",
   "metadata": {},
   "outputs": [],
   "source": [
    "X = data1.iloc[:, 0:41].values\n",
    "Y = y.values"
   ]
  },
  {
   "cell_type": "code",
   "execution_count": 51,
   "id": "a3ae9158",
   "metadata": {},
   "outputs": [],
   "source": [
    "# Splitting X and Y\n",
    "from sklearn.model_selection import train_test_split\n",
    "X_train, X_test, Y_train, Y_test = train_test_split(X, Y, test_size = 0.20, random_state = 42)"
   ]
  },
  {
   "cell_type": "code",
   "execution_count": 52,
   "id": "facc55a6",
   "metadata": {},
   "outputs": [
    {
     "data": {
      "text/html": [
       "<style>#sk-container-id-1 {color: black;background-color: white;}#sk-container-id-1 pre{padding: 0;}#sk-container-id-1 div.sk-toggleable {background-color: white;}#sk-container-id-1 label.sk-toggleable__label {cursor: pointer;display: block;width: 100%;margin-bottom: 0;padding: 0.3em;box-sizing: border-box;text-align: center;}#sk-container-id-1 label.sk-toggleable__label-arrow:before {content: \"▸\";float: left;margin-right: 0.25em;color: #696969;}#sk-container-id-1 label.sk-toggleable__label-arrow:hover:before {color: black;}#sk-container-id-1 div.sk-estimator:hover label.sk-toggleable__label-arrow:before {color: black;}#sk-container-id-1 div.sk-toggleable__content {max-height: 0;max-width: 0;overflow: hidden;text-align: left;background-color: #f0f8ff;}#sk-container-id-1 div.sk-toggleable__content pre {margin: 0.2em;color: black;border-radius: 0.25em;background-color: #f0f8ff;}#sk-container-id-1 input.sk-toggleable__control:checked~div.sk-toggleable__content {max-height: 200px;max-width: 100%;overflow: auto;}#sk-container-id-1 input.sk-toggleable__control:checked~label.sk-toggleable__label-arrow:before {content: \"▾\";}#sk-container-id-1 div.sk-estimator input.sk-toggleable__control:checked~label.sk-toggleable__label {background-color: #d4ebff;}#sk-container-id-1 div.sk-label input.sk-toggleable__control:checked~label.sk-toggleable__label {background-color: #d4ebff;}#sk-container-id-1 input.sk-hidden--visually {border: 0;clip: rect(1px 1px 1px 1px);clip: rect(1px, 1px, 1px, 1px);height: 1px;margin: -1px;overflow: hidden;padding: 0;position: absolute;width: 1px;}#sk-container-id-1 div.sk-estimator {font-family: monospace;background-color: #f0f8ff;border: 1px dotted black;border-radius: 0.25em;box-sizing: border-box;margin-bottom: 0.5em;}#sk-container-id-1 div.sk-estimator:hover {background-color: #d4ebff;}#sk-container-id-1 div.sk-parallel-item::after {content: \"\";width: 100%;border-bottom: 1px solid gray;flex-grow: 1;}#sk-container-id-1 div.sk-label:hover label.sk-toggleable__label {background-color: #d4ebff;}#sk-container-id-1 div.sk-serial::before {content: \"\";position: absolute;border-left: 1px solid gray;box-sizing: border-box;top: 0;bottom: 0;left: 50%;z-index: 0;}#sk-container-id-1 div.sk-serial {display: flex;flex-direction: column;align-items: center;background-color: white;padding-right: 0.2em;padding-left: 0.2em;position: relative;}#sk-container-id-1 div.sk-item {position: relative;z-index: 1;}#sk-container-id-1 div.sk-parallel {display: flex;align-items: stretch;justify-content: center;background-color: white;position: relative;}#sk-container-id-1 div.sk-item::before, #sk-container-id-1 div.sk-parallel-item::before {content: \"\";position: absolute;border-left: 1px solid gray;box-sizing: border-box;top: 0;bottom: 0;left: 50%;z-index: -1;}#sk-container-id-1 div.sk-parallel-item {display: flex;flex-direction: column;z-index: 1;position: relative;background-color: white;}#sk-container-id-1 div.sk-parallel-item:first-child::after {align-self: flex-end;width: 50%;}#sk-container-id-1 div.sk-parallel-item:last-child::after {align-self: flex-start;width: 50%;}#sk-container-id-1 div.sk-parallel-item:only-child::after {width: 0;}#sk-container-id-1 div.sk-dashed-wrapped {border: 1px dashed gray;margin: 0 0.4em 0.5em 0.4em;box-sizing: border-box;padding-bottom: 0.4em;background-color: white;}#sk-container-id-1 div.sk-label label {font-family: monospace;font-weight: bold;display: inline-block;line-height: 1.2em;}#sk-container-id-1 div.sk-label-container {text-align: center;}#sk-container-id-1 div.sk-container {/* jupyter's `normalize.less` sets `[hidden] { display: none; }` but bootstrap.min.css set `[hidden] { display: none !important; }` so we also need the `!important` here to be able to override the default hidden behavior on the sphinx rendered scikit-learn.org. See: https://github.com/scikit-learn/scikit-learn/issues/21755 */display: inline-block !important;position: relative;}#sk-container-id-1 div.sk-text-repr-fallback {display: none;}</style><div id=\"sk-container-id-1\" class=\"sk-top-container\"><div class=\"sk-text-repr-fallback\"><pre>KMeans(n_clusters=2, random_state=0)</pre><b>In a Jupyter environment, please rerun this cell to show the HTML representation or trust the notebook. <br />On GitHub, the HTML representation is unable to render, please try loading this page with nbviewer.org.</b></div><div class=\"sk-container\" hidden><div class=\"sk-item\"><div class=\"sk-estimator sk-toggleable\"><input class=\"sk-toggleable__control sk-hidden--visually\" id=\"sk-estimator-id-1\" type=\"checkbox\" checked><label for=\"sk-estimator-id-1\" class=\"sk-toggleable__label sk-toggleable__label-arrow\">KMeans</label><div class=\"sk-toggleable__content\"><pre>KMeans(n_clusters=2, random_state=0)</pre></div></div></div></div></div>"
      ],
      "text/plain": [
       "KMeans(n_clusters=2, random_state=0)"
      ]
     },
     "execution_count": 52,
     "metadata": {},
     "output_type": "execute_result"
    }
   ],
   "source": [
    "import sklearn\n",
    "from sklearn.cluster import KMeans\n",
    "KMeans_Clustering = KMeans(n_clusters =2, random_state=0)\n",
    "KMeans_Clustering.fit(X_train)"
   ]
  },
  {
   "cell_type": "code",
   "execution_count": 53,
   "id": "97e6b373",
   "metadata": {},
   "outputs": [
    {
     "name": "stdout",
     "output_type": "stream",
     "text": [
      "[[ 1.25114424e-01  0.00000000e+00  0.00000000e+00 -2.77555756e-15\n",
      "   0.00000000e+00  0.00000000e+00  5.01197773e-01  0.00000000e+00\n",
      "   0.00000000e+00  6.17284002e-14  0.00000000e+00  0.00000000e+00\n",
      "   0.00000000e+00  3.77195446e-01  3.29363853e-01  3.44257390e-01\n",
      "   3.29998208e-01  4.06839697e-01  3.28882390e-01]\n",
      " [ 7.48182756e-01  0.00000000e+00  0.00000000e+00  5.33920588e-01\n",
      "   0.00000000e+00  0.00000000e+00  5.01166620e-01  0.00000000e+00\n",
      "   0.00000000e+00  1.00000000e+00  0.00000000e+00  0.00000000e+00\n",
      "   0.00000000e+00  4.73684211e-01  9.39572299e-01  5.55555556e-01\n",
      "   9.98226905e-01  4.00000000e-01  8.95054507e-01]]\n"
     ]
    }
   ],
   "source": [
    "print(KMeans_Clustering.cluster_centers_)"
   ]
  },
  {
   "cell_type": "code",
   "execution_count": 54,
   "id": "dfe7b718",
   "metadata": {},
   "outputs": [
    {
     "name": "stdout",
     "output_type": "stream",
     "text": [
      "Classification report:\n",
      "\n",
      "               precision    recall  f1-score   support\n",
      "\n",
      "           0       0.00      0.00      0.00   15169.0\n",
      "           1       0.00      0.00      0.00    7608.0\n",
      "           2       0.00      0.00      0.00    7463.0\n",
      "\n",
      "    accuracy                           0.00   30240.0\n",
      "   macro avg       0.00      0.00      0.00   30240.0\n",
      "weighted avg       0.00      0.00      0.00   30240.0\n",
      "\n"
     ]
    }
   ],
   "source": [
    "#prediction using kmeans and accuracy\n",
    "kpred = KMeans_Clustering.predict(X_test)\n",
    "\n",
    "print('Classification report:\\n\\n', sklearn.metrics.classification_report(Y_test,kpred))"
   ]
  },
  {
   "cell_type": "markdown",
   "id": "e8aa6a36",
   "metadata": {},
   "source": [
    "# Comparison"
   ]
  },
  {
   "cell_type": "code",
   "execution_count": 55,
   "id": "af567dc7",
   "metadata": {},
   "outputs": [],
   "source": [
    "score = [val1,val2,val3,val4,val5,val6,val7,val8,val8a]"
   ]
  },
  {
   "cell_type": "code",
   "execution_count": 56,
   "id": "93d78e67",
   "metadata": {},
   "outputs": [
    {
     "name": "stdout",
     "output_type": "stream",
     "text": [
      "[0 1 2 3 4 5 6 7 8]\n",
      "[100.0, 100.0, 81.90035273368606, 100.0, 100.0, 100.0, 76.6931216931217, 99.89858906525572, 100.0]\n"
     ]
    }
   ],
   "source": [
    "#make variabel for save the result and to show it\n",
    "classifier = ('Random Forest','Decision Tree','KNN','LR','Voting Classifier','XGB','SVM','Naive Bayes','MLP-ANN')\n",
    "y_pos = np.arange(len(classifier))\n",
    "print(y_pos)\n",
    "print(score)"
   ]
  },
  {
   "cell_type": "code",
   "execution_count": 57,
   "id": "5883592f",
   "metadata": {},
   "outputs": [
    {
     "data": {
      "image/png": "[encoded data removed]",
      "text/plain": [
       "<Figure size 640x480 with 1 Axes>"
      ]
     },
     "metadata": {},
     "output_type": "display_data"
    }
   ],
   "source": [
    "import matplotlib.pyplot as plt2\n",
    "plt2.barh(y_pos, score, align='center', alpha=0.5,color='blue')\n",
    "plt2.yticks(y_pos, classifier)\n",
    "plt2.xlabel('Score')\n",
    "plt2.title('Classification Performance')\n",
    "plt2.show()"
   ]
  },
  {
   "cell_type": "code",
   "execution_count": 58,
   "id": "cf8a8d52",
   "metadata": {},
   "outputs": [
    {
     "data": {
      "text/plain": [
       "['model.sav']"
      ]
     },
     "execution_count": 58,
     "metadata": {},
     "output_type": "execute_result"
    }
   ],
   "source": [
    "import joblib\n",
    "filename = 'model.sav'\n",
    "joblib.dump(eclf1, filename)"
   ]
  },
  {
   "cell_type": "code",
   "execution_count": null,
   "id": "867a8416",
   "metadata": {},
   "outputs": [],
   "source": []
  }
 ],
 "metadata": {
  "kernelspec": {
   "display_name": "Python 3 (ipykernel)",
   "language": "python",
   "name": "python3"
  },
  "language_info": {
   "codemirror_mode": {
    "name": "ipython",
    "version": 3
   },
   "file_extension": ".py",
   "mimetype": "text/x-python",
   "name": "python",
   "nbconvert_exporter": "python",
   "pygments_lexer": "ipython3",
   "version": "3.12.4"
  }
 },
 "nbformat": 4,
 "nbformat_minor": 5
}
